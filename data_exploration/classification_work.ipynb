{
 "cells": [
  {
   "cell_type": "code",
   "execution_count": 1,
   "metadata": {
    "collapsed": true
   },
   "outputs": [],
   "source": [
    "import json"
   ]
  },
  {
   "cell_type": "code",
   "execution_count": 2,
   "metadata": {
    "collapsed": false,
    "scrolled": true
   },
   "outputs": [],
   "source": [
    "f = file(\"data_crawled_with_youtube_info_array.json\");\n",
    "s = json.load(f)"
   ]
  },
  {
   "cell_type": "code",
   "execution_count": 3,
   "metadata": {
    "collapsed": false
   },
   "outputs": [
    {
     "data": {
      "text/plain": [
       "<function close>"
      ]
     },
     "execution_count": 3,
     "metadata": {},
     "output_type": "execute_result"
    }
   ],
   "source": [
    "f.close"
   ]
  },
  {
   "cell_type": "code",
   "execution_count": 4,
   "metadata": {
    "collapsed": false
   },
   "outputs": [],
   "source": [
    "wordClassify = []\n",
    "\n",
    "i = 0\n",
    "for data in s:\n",
    "    postid = data['postId']\n",
    "    category = data.get('categoryId')\n",
    "    title = data.get('title')\n",
    "    \n",
    "    for wd in data['wordList']:\n",
    "        if i <= 1000:\n",
    "            temp=[postid,title,wd,category]\n",
    "            wordClassify.append(temp)\n",
    "        i=i+1\n",
    "        \n",
    "    \n",
    "json_data = json.dumps(wordClassify)\n",
    "\n",
    "with open('data.txt', 'w') as outfile:\n",
    "    json.dump(json_data, outfile)\n"
   ]
  },
  {
   "cell_type": "code",
   "execution_count": 5,
   "metadata": {
    "collapsed": false
   },
   "outputs": [],
   "source": [
    "# Divides a set on a specific column. Can handle numeric or nominal values\n",
    "def divideset(rows,column,value):\n",
    "# make a function that tells us if a row is in the first group (true) or the second group (false)\n",
    "    split_function = None\n",
    "    if isinstance(value,int) or isinstance(value,float): \n",
    "        split_function=lambda row:row[column]>=value\n",
    "    else:\n",
    "        split_function=lambda row:row[column]==value\n",
    "        \n",
    "        \n",
    "        \n",
    "    # Divide the rows into two sets and return them\n",
    "   \n",
    "    set1=[row for row in rows if split_function(row)]\n",
    "    set2=[row for row in rows if not split_function(row)]\n",
    "    \n",
    "    return (set1,set2)\n",
    "\n",
    "# Create counts of possible results (the last column of each row is the result)\n",
    "def uniquecounts(rows):\n",
    "    results={}\n",
    "    for row in rows:\n",
    "        # The result is the last column\n",
    "        r=row[len(row)-1]\n",
    "        if r not in results: results[r]=0\n",
    "        results[r]+=1\n",
    "    return results\n",
    "    \n",
    "# Entropy is the sum of p(x)log(p(x)) across all \n",
    "# the different possible results\n",
    "def entropy(rows):\n",
    "    from math import log\n",
    "    log2=lambda x:log(x)/log(2)  \n",
    "    results=uniquecounts(rows)\n",
    "    # Now calculate the entropy\n",
    "    ent=0.0\n",
    "    for r in results.keys():\n",
    "        p=float(results[r])/len(rows)\n",
    "        ent=ent-p*log2(p)\n",
    "    return ent\n",
    "\n",
    "\n"
   ]
  },
  {
   "cell_type": "code",
   "execution_count": 6,
   "metadata": {
    "collapsed": false
   },
   "outputs": [
    {
     "data": {
      "text/plain": [
       "1.5083747010277313"
      ]
     },
     "execution_count": 6,
     "metadata": {},
     "output_type": "execute_result"
    }
   ],
   "source": [
    "set1,set2=divideset(wordClassify,3,'Entertainment')\n",
    "entropy(set1), entropy(set2)\n",
    "\n",
    "\n",
    "entropy(wordClassify)"
   ]
  },
  {
   "cell_type": "code",
   "execution_count": 7,
   "metadata": {
    "collapsed": false
   },
   "outputs": [],
   "source": [
    "class decisionnode:\n",
    "    def __init__(self,col=-1,value=None,results=None,tb=None,fb=None):\n",
    "        self.col=col\n",
    "        self.value=value\n",
    "        self.results=results\n",
    "        self.tb=tb\n",
    "        self.fb=fb   "
   ]
  },
  {
   "cell_type": "code",
   "execution_count": 8,
   "metadata": {
    "collapsed": false
   },
   "outputs": [],
   "source": [
    "def buildtree(rows,scoref=entropy): #rows is the set, either whole dataset or part of it in the recursive call, \n",
    "                                    #scoref is the method to measure heterogeneity. By default it's entropy.\n",
    "        if len(rows)==0: return decisionnode() #len(rows) is the number of units in a set\n",
    "        current_score=scoref(rows)\n",
    "\n",
    "        # Set up some variables to track the best criteria\n",
    "        best_gain=0.0\n",
    "        best_criteria=None\n",
    "        best_sets=None\n",
    "  \n",
    "        column_count=len(rows[0])-1   #count the # of attributes/columns. \n",
    "                              #It's -1 because the last one is the target attribute and it does not count.\n",
    "        for col in range(2,column_count):\n",
    "            global column_values        \n",
    "            column_values={}            \n",
    "            for row in rows:\n",
    "                column_values[row[col]]=1   \n",
    "            # Now try dividing the rows up for each value in this column\n",
    "            for value in column_values.keys(): #the 'values' here are the keys of the dictionnary\n",
    "                (set1,set2)=divideset(rows,col,value) #define set1 and set2 as the 2 children set of a division\n",
    "\n",
    "                # Information gain\n",
    "                p=float(len(set1))/len(rows) #p is the size of a child set relative to its parent\n",
    "                gain=current_score-p*scoref(set1)-(1-p)*scoref(set2) #cf. formula information gain\n",
    "                if gain>best_gain and len(set1)>0 and len(set2)>0: #set must not be empty\n",
    "                    best_gain=gain\n",
    "                    best_criteria=(col,value)\n",
    "                    best_sets=(set1,set2)\n",
    "        \n",
    "        # Create the sub branches   \n",
    "        if best_gain>0:\n",
    "            trueBranch=buildtree(best_sets[0])\n",
    "            falseBranch=buildtree(best_sets[1])\n",
    "            return decisionnode(col=best_criteria[0],value=best_criteria[1],\n",
    "                                tb=trueBranch,fb=falseBranch)\n",
    "        else:\n",
    "            return decisionnode(results=uniquecounts(rows))"
   ]
  },
  {
   "cell_type": "code",
   "execution_count": 9,
   "metadata": {
    "collapsed": false
   },
   "outputs": [],
   "source": [
    "tree=buildtree(wordClassify)"
   ]
  },
  {
   "cell_type": "code",
   "execution_count": 15,
   "metadata": {
    "collapsed": false
   },
   "outputs": [
    {
     "name": "stdout",
     "output_type": "stream",
     "text": [
      "2\n",
      "oh\n",
      "None\n",
      "\n",
      "-1\n",
      "None\n",
      "{u'Howto & Style': 1, u'Entertainment': 13}\n",
      "\n"
     ]
    }
   ],
   "source": [
    "print(tree.col)\n",
    "print(tree.value)\n",
    "print(tree.results)\n",
    "print(\"\")\n",
    "print(tree.tb.col)\n",
    "print(tree.tb.value)\n",
    "print(tree.tb.results)\n",
    "print(\"\")"
   ]
  },
  {
   "cell_type": "code",
   "execution_count": 11,
   "metadata": {
    "collapsed": false
   },
   "outputs": [],
   "source": [
    "def getwidth(tree):\n",
    "    if tree.tb==None and tree.fb==None: return 1\n",
    "    return getwidth(tree.tb)+getwidth(tree.fb)\n",
    "\n",
    "def getdepth(tree):\n",
    "    if tree.tb==None and tree.fb==None: return 0\n",
    "    return max(getdepth(tree.tb),getdepth(tree.fb))+1\n",
    "\n",
    "\n",
    "from PIL import Image,ImageDraw\n",
    "\n",
    "def drawtree(tree,jpeg='tree.jpg'):\n",
    "    w=getwidth(tree)*100\n",
    "    h=getdepth(tree)*100+120\n",
    "\n",
    "    img=Image.new('RGB',(w,h),(255,255,255))\n",
    "    draw=ImageDraw.Draw(img)\n",
    "\n",
    "    drawnode(draw,tree,w/2,20)\n",
    "    img.save(jpeg,'JPEG')\n",
    "  \n",
    "def drawnode(draw,tree,x,y):\n",
    "    if tree.results==None:\n",
    "        # Get the width of each branch\n",
    "        w1=getwidth(tree.fb)*100\n",
    "        w2=getwidth(tree.tb)*100\n",
    "\n",
    "        # Determine the total space required by this node\n",
    "        left=x-(w1+w2)/2\n",
    "        right=x+(w1+w2)/2\n",
    "\n",
    "        # Draw the condition string\n",
    "        draw.text((x-20,y-10),str(tree.col)+':'+str(tree.value),(0,0,0))\n",
    "\n",
    "        # Draw links to the branches\n",
    "        draw.line((x,y,left+w1/2,y+100),fill=(255,0,0))\n",
    "        draw.line((x,y,right-w2/2,y+100),fill=(255,0,0))\n",
    "\n",
    "        # Draw the branch nodes\n",
    "        drawnode(draw,tree.fb,left+w1/2,y+100)\n",
    "        drawnode(draw,tree.tb,right-w2/2,y+100)\n",
    "    else:\n",
    "        txt=' \\n'.join(['%s:%d'%v for v in tree.results.items()])\n",
    "        draw.text((x-20,y),txt,(0,0,0))"
   ]
  },
  {
   "cell_type": "code",
   "execution_count": 13,
   "metadata": {
    "collapsed": true
   },
   "outputs": [],
   "source": [
    "drawtree(tree,jpeg='treeview.jpg')"
   ]
  },
  {
   "cell_type": "code",
   "execution_count": null,
   "metadata": {
    "collapsed": true
   },
   "outputs": [],
   "source": []
  }
 ],
 "metadata": {
  "kernelspec": {
   "display_name": "Python 2",
   "language": "python",
   "name": "python2"
  },
  "language_info": {
   "codemirror_mode": {
    "name": "ipython",
    "version": 2
   },
   "file_extension": ".py",
   "mimetype": "text/x-python",
   "name": "python",
   "nbconvert_exporter": "python",
   "pygments_lexer": "ipython2",
   "version": "2.7.12"
  }
 },
 "nbformat": 4,
 "nbformat_minor": 2
}
