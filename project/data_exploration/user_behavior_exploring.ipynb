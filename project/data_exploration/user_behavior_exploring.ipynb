{
 "cells": [
  {
   "cell_type": "code",
   "execution_count": null,
   "metadata": {
    "collapsed": false
   },
   "outputs": [],
   "source": [
    "from statistic_helper import *\n",
    "from graph_helper import *\n",
    "import plotly.offline as po\n",
    "from plotly.graph_objs import *\n",
    "import plotly.graph_objs as go\n",
    "import json, nltk\n",
    "import numpy as np\n",
    "po.offline.init_notebook_mode()"
   ]
  },
  {
   "cell_type": "code",
   "execution_count": null,
   "metadata": {
    "collapsed": true
   },
   "outputs": [],
   "source": [
    "students = load_data_from_file(\"studentBehaviorInfo_all.json\")\n",
    "video_data_processed = load_data_from_file(\"video_data.json\")\n",
    "video_raw = load_data_from_file(\"videoData_vs_WordList.json\")"
   ]
  },
  {
   "cell_type": "code",
   "execution_count": null,
   "metadata": {
    "collapsed": false
   },
   "outputs": [],
   "source": [
    "# TODO:\n",
    "# Explore info about saved words and score (Some student saved tons of words in a video and get 0 score), ex: What's special\n",
    "# in the videos that user saved most of the words? Does that mean that it's difficult for them?\n",
    "# Try data cleaning based on score and saved words <- my main goal"
   ]
  },
  {
   "cell_type": "code",
   "execution_count": null,
   "metadata": {
    "collapsed": false
   },
   "outputs": [],
   "source": [
    "#Overall user chosen video difficulty and score\n",
    "cleaning = True\n",
    "i=0\n",
    "data = []\n",
    "student_summary = []\n",
    "for student in students:\n",
    "    totalScore = 0\n",
    "    totalSession = 0\n",
    "    stats = []\n",
    "    ignoring = False\n",
    "    for video in student['chosenVideo']:\n",
    "        videoSpeed = video_data_processed[str(video)]['videoSpeed']\n",
    "        wordLevel = video_data_processed[str(video)]['wordLevel']\n",
    "        total = 0\n",
    "        amount = 0\n",
    "        skipped_tests = 0\n",
    "        sessions = 0\n",
    "        scores = []\n",
    "        vocabularyList = []\n",
    "        ignoring2 = False\n",
    "        for wd in student['vocabularyList']:\n",
    "            if int(wd[\"postId\"]) == video:\n",
    "                vocabularyList.append(wd['word'])\n",
    "        for score in student['listenScore']:\n",
    "            if score['postId'] == video:\n",
    "                if score['score'] == -1:\n",
    "                    skipped_tests += 1\n",
    "                else:\n",
    "                    scores.append(score)\n",
    "                    amount += 1\n",
    "                    total += score['score']\n",
    "                sessions += 1\n",
    "        if amount != 0:\n",
    "            totalScore += total\n",
    "            totalSession += amount\n",
    "            average = float(total)/amount\n",
    "            stats.append({\"postId\": video,\"videoSpeed\": videoSpeed,\"wordLevel\": wordLevel,\"scores\": scores,\"average\": average,\"skipped_tests\"\n",
    "                          : skipped_tests,\"sessions\": sessions, 'vocabularyList': vocabularyList})\n",
    "    \n",
    "    student_summary.append({\"memberId\": student['memberId'], \"average\": float(totalScore)/totalSession, \"totalSession\": totalSession, \"stats\":\n",
    "                            stats})\n",
    "#         print (video, videoSpeed, wordLevel, average, skipped_tests)\n",
    "\n",
    "    trace0 = go.Scatter(\n",
    "    x = range(len(stats)),\n",
    "    y = [stat[\"wordLevel\"] for stat in stats])\n",
    "    \n",
    "    trace1 = go.Scatter(\n",
    "    x = range(len(stats)),\n",
    "    y = [stat[\"average\"] for stat in stats])\n",
    "    i += 1\n",
    "    data.append(trace0)\n",
    "    data.append(trace1)\n",
    "    \n",
    "# po.iplot(data)\n"
   ]
  },
  {
   "cell_type": "code",
   "execution_count": null,
   "metadata": {
    "collapsed": false
   },
   "outputs": [],
   "source": [
    "looking_for = '10019'\n",
    "for vid in video_raw:\n",
    "    if vid['postId'] == looking_for:\n",
    "        print vid\n",
    "        break\n",
    "bk = False\n",
    "for student in student_summary:\n",
    "    for stat in student['stats']:\n",
    "        if str(stat['postId']) == looking_for:\n",
    "            print stat['sessions']\n",
    "            print stat['wordLevel']\n",
    "            bk = True\n",
    "            break\n",
    "        if bk:\n",
    "            break"
   ]
  },
  {
   "cell_type": "code",
   "execution_count": null,
   "metadata": {
    "collapsed": false,
    "scrolled": true
   },
   "outputs": [],
   "source": [
    "# Comparison of student score and videos/lessons taken\n",
    "vids_x = []\n",
    "sessions_x = []\n",
    "avg = []\n",
    "for student in student_summary:\n",
    "    vids_x.append(len(student['stats']))\n",
    "    sessions_x.append(student['totalSession'])\n",
    "    avg.append(student['average'])\n",
    "\n",
    "#Regression\n",
    "\n",
    "z = np.polyfit(vids_x, avg, 1)\n",
    "f = np.poly1d(z)\n",
    "print f\n",
    "\n",
    "z2 = np.polyfit(sessions_x, avg, 1)\n",
    "f2 = np.poly1d(z)\n",
    "print f2\n",
    "    \n",
    "trace_vid = go.Scatter(\n",
    "    x = vids_x,\n",
    "    y = avg,\n",
    "    mode = \"markers\")\n",
    "data = [trace_vid]\n",
    "\n",
    "po.iplot(data)\n",
    "\n",
    "\n",
    "trace_session = go.Scatter(\n",
    "    x = sessions_x,\n",
    "    y = avg,\n",
    "    mode = \"markers\")\n",
    "data = [trace_session]\n",
    "\n",
    "po.iplot(data)\n"
   ]
  },
  {
   "cell_type": "code",
   "execution_count": null,
   "metadata": {
    "collapsed": true
   },
   "outputs": [],
   "source": []
  },
  {
   "cell_type": "raw",
   "metadata": {},
   "source": []
  },
  {
   "cell_type": "code",
   "execution_count": null,
   "metadata": {
    "collapsed": false
   },
   "outputs": [],
   "source": [
    "for student in student_summary:\n",
    "    if 0 < student['totalSession'] < 100 and 0 < student['average'] < 20:\n",
    "        stats = student[\"stats\"]\n",
    "        trace0 = go.Scatter(\n",
    "        x = [\"label: \" + str(stat['scores'][0]['postId']) for stat in stats],\n",
    "        y = [stat[\"wordLevel\"] for stat in stats],\n",
    "        name = 'Word Level')\n",
    "\n",
    "        trace1 = go.Scatter(\n",
    "        x = [\"label: \" + str(stat['scores'][0]['postId']) for stat in stats],\n",
    "        y = [stat[\"average\"] for stat in stats],\n",
    "        name = \"Average Score\")\n",
    "\n",
    "        trace2 = go.Scatter(\n",
    "        x = [\"label: \" + str(stat['scores'][0]['postId']) for stat in stats],\n",
    "        y = [len(stat['vocabularyList']) for stat in stats],\n",
    "        name = 'Amount of saved words')\n",
    "        data = [trace0, trace1, trace2]\n",
    "\n",
    "        layout = go.Layout(\n",
    "            title = str(student['memberId'])\n",
    "        )\n",
    "\n",
    "#         fig = go.Figure(data=data, layout=layout)\n",
    "#         po.iplot(fig)"
   ]
  },
  {
   "cell_type": "code",
   "execution_count": null,
   "metadata": {
    "collapsed": false
   },
   "outputs": [],
   "source": [
    "# CSV export\n",
    "\n",
    "\n",
    "\n",
    "import csv\n",
    "with open('../data/user average score sequence.csv', 'wb') as out:\n",
    "    writer = csv.writer(out)\n",
    "    \n",
    "    row = ['memberId']\n",
    "    for label in range(1,151):\n",
    "        row.append('video'+str(label))\n",
    "    writer.writerow(row)\n",
    "    \n",
    "    for student in student_summary:\n",
    "        row = [student['memberId']]\n",
    "        for stat in student['stats']:\n",
    "            row.append(stat['average'])\n",
    "        row.append('end')\n",
    "        writer.writerow(row)\n",
    "        \n",
    "with open('../data/user saved word sequence.csv', 'wb') as out:\n",
    "    writer = csv.writer(out)\n",
    "    \n",
    "    row = ['memberId']\n",
    "    for label in range(1,151):\n",
    "        row.append('video'+str(label))\n",
    "    writer.writerow(row)\n",
    "    \n",
    "    for student in student_summary:\n",
    "        row = [student['memberId']]\n",
    "        for stat in student['stats']:\n",
    "            row.append(len(stat['vocabularyList']))\n",
    "        row.append('end')\n",
    "        writer.writerow(row)"
   ]
  },
  {
   "cell_type": "code",
   "execution_count": null,
   "metadata": {
    "collapsed": false
   },
   "outputs": [],
   "source": [
    "# Feature extraction from score/save word sequence\n",
    "# zero rate\n",
    "\n",
    "# rising rate\n",
    "# falling rate\n",
    "# flip rate\n",
    "# length of sequence zero / all\n",
    "# length of rising / all\n",
    "# length of falling / all\n",
    "\n",
    "student_features = []\n",
    "for student in student_summary:\n",
    "    zero_count = 0\n",
    "    rising_count = 0\n",
    "    falling_count = 0\n",
    "    flip_count = 0\n",
    "    video_count = 0\n",
    "    max_sequence_zero = 0\n",
    "    curr_sequence_zero = 0\n",
    "    max_sequence_rising = 0\n",
    "    curr_sequence_rising = 0\n",
    "    max_sequence_falling = 0\n",
    "    curr_sequence_falling = 0\n",
    "    former_score = -2\n",
    "    for stat in student['stats']:\n",
    "        score = stat['average']\n",
    "        if former_score != -2:\n",
    "            if score == 0:\n",
    "                zero_count += 1\n",
    "                curr_sequence_zero += 1\n",
    "                max_sequence_zero = max(max_sequence_zero, curr_sequence_zero)\n",
    "            else:\n",
    "                curr_sequence_zero = 0\n",
    "            if score > former_score:\n",
    "                if curr_sequence_falling > 0:\n",
    "                    flip_count += 1\n",
    "                    curr_sequence_falling = 0\n",
    "                rising_count += 1\n",
    "                curr_sequence_rising += 1\n",
    "                max_sequence_rising = max(max_sequence_rising, curr_sequence_rising)\n",
    "            elif score < former_score:\n",
    "                if curr_sequence_rising > 0:\n",
    "                    flip_count += 1\n",
    "                    curr_sequence_rising = 0\n",
    "                falling_count += 1\n",
    "                curr_sequence_falling += 1\n",
    "                max_sequence_falling = max(max_sequence_falling, curr_sequence_falling)\n",
    "            else:\n",
    "                if curr_sequence_falling > 0:\n",
    "                    curr_sequence_falling += 1\n",
    "                    max_sequence_falling = max(max_sequence_falling, curr_sequence_falling)\n",
    "                if curr_sequence_rising:\n",
    "                    curr_sequence_rising += 1\n",
    "                    max_sequence_rising = max(max_sequence_rising, max_sequence_rising)\n",
    "        elif score == 0:\n",
    "            zero_count+= 1\n",
    "            curr_sequence_zero += 1\n",
    "            max_sequence_zero += 1\n",
    "        former_score = score\n",
    "        video_count += 1\n",
    "    zero_rate = zero_count / float(video_count)\n",
    "    if video_count > 1:\n",
    "        rising_rate = rising_count / float(video_count-1)\n",
    "        falling_rate = falling_count / float(video_count-1)\n",
    "    else:\n",
    "        rising_rate = 0\n",
    "        falling_rate = 0\n",
    "    if video_count > 2:\n",
    "        flip_rate = flip_count / float(video_count-2)\n",
    "    else:\n",
    "        flip_rate = 0\n",
    "    zero_sequence_rate = max_sequence_zero / float(video_count)\n",
    "    if video_count > 1:\n",
    "        rising_sequence_rate = max_sequence_rising / float(video_count-1)\n",
    "        falling_sequence_rate = max_sequence_falling / float(video_count-1)\n",
    "    else:\n",
    "        rising_sequence_rate = 0\n",
    "        falling_sequence_rate = 0\n",
    "        \n",
    "    student_features.append({\"memberId\": student[\"memberId\"], \"zero_rate\": zero_rate, \"rising_rate\": rising_rate, \n",
    "                            \"falling_rate\": falling_rate, \"flip_rate\": flip_rate, \"rising_sequence_rate\": rising_sequence_rate,\n",
    "                            \"falling_sequence_rate\": falling_sequence_rate, \"zero_sequence_rate\": zero_sequence_rate})\n",
    "    \n",
    "with open('../data/user_score_features.csv', 'wb') as out:\n",
    "    writer = csv.writer(out)\n",
    "    \n",
    "    row = ['memberId', 'zero_rate', 'rising_rate', 'falling_rate', 'flip_rate', 'rising_sequence_rate', 'falling_sequence_rate', 'zero_sequence_rate']\n",
    "    writer.writerow(row)\n",
    "    \n",
    "    for feature in student_features:\n",
    "        row = [feature['memberId'], feature['zero_rate'], feature['rising_rate'], feature['falling_rate'], feature['flip_rate'], \n",
    "              feature['rising_sequence_rate'], feature['falling_sequence_rate'], feature['zero_sequence_rate']]\n",
    "        writer.writerow(row)\n",
    "        \n",
    "zero_rate_data = [feature['zero_rate'] for feature in student_features]\n",
    "rising_rate_data = [feature['rising_rate'] for feature in student_features]\n",
    "falling_rate_data = [feature['falling_rate'] for feature in student_features]\n",
    "flip_rate_data = [feature['flip_rate'] for feature in student_features]\n",
    "zero_sequence_rate_data = [feature['zero_sequence_rate'] for feature in student_features]\n",
    "rising_sequence_rate_data = [feature['rising_sequence_rate'] for feature in student_features]\n",
    "falling_sequence_rate_data = [feature['falling_sequence_rate'] for feature in student_features]\n",
    "data = [go.Histogram(\n",
    "        x=zero_rate_data,\n",
    "        name='Zero rate'),\n",
    "        go.Histogram(\n",
    "        x=rising_rate_data,\n",
    "        name = 'Rising rate'),\n",
    "        go.Histogram(\n",
    "        x=falling_rate_data,\n",
    "        name='Falling rate'),\n",
    "        go.Histogram(\n",
    "        x=flip_rate_data,\n",
    "        name='Flipping rate'),\n",
    "        go.Histogram(\n",
    "        x=zero_sequence_rate_data,\n",
    "        name='Length of zero sequence'),\n",
    "        go.Histogram(\n",
    "        x=rising_sequence_rate_data,\n",
    "        name='Length of rising sequence'),\n",
    "        go.Histogram(\n",
    "        x=falling_sequence_rate_data,\n",
    "        name='Length of falling sequence')\n",
    "       ]\n",
    "layout = go.Layout(\n",
    "    title='Distribution of Features',\n",
    "    barmode='group')\n",
    "\n",
    "fig = go.Figure(data=data, layout=layout)\n",
    "po.iplot(fig)"
   ]
  },
  {
   "cell_type": "code",
   "execution_count": 15,
   "metadata": {
    "collapsed": false
   },
   "outputs": [
    {
     "data": {
      "text/html": [
       "<div id=\"0c6bdca5-e3c2-4825-9866-b9b3cb654971\" style=\"height: 525px; width: 100%;\" class=\"plotly-graph-div\"></div><script type=\"text/javascript\">require([\"plotly\"], function(Plotly) { window.PLOTLYENV=window.PLOTLYENV || {};window.PLOTLYENV.BASE_URL=\"https://plot.ly\";Plotly.newPlot(\"0c6bdca5-e3c2-4825-9866-b9b3cb654971\", [{\"y\": [95.0, 90.33333333333333, 93.2], \"x\": [1, 2, 3], \"type\": \"scatter\", \"name\": \"125048\"}, {\"y\": [85.8, 75.66666666666667, 74.0, 60.0, 79.2, 70.66666666666667, 68.5, 70.0, 65.6, 71.66666666666667, 58.75, 77.0, 70.25, 70.0, 77.66666666666667, 67.1, 72.0, 70.33333333333333, 68.0, 73.0, 83.04761904761905, 81.36363636363636], \"x\": [1, 2, 3, 4, 5, 6, 7, 8, 9, 10, 11, 12, 13, 14, 15, 16, 17, 18, 19, 20, 21, 22], \"type\": \"scatter\", \"name\": \"125259\"}, {\"y\": [98.0, 98.0, 94.66666666666667, 97.57142857142857, 95.8, 97.0, 98.33333333333333, 97.0, 97.25, 95.75, 95.66666666666667, 97.66666666666667, 98.5, 97.16666666666667, 98.25, 97.83333333333333, 97.0, 99.33333333333333], \"x\": [1, 2, 3, 4, 5, 6, 7, 8, 9, 10, 11, 12, 13, 14, 15, 16, 17, 18], \"type\": \"scatter\", \"name\": \"125373\"}, {\"y\": [99.8, 96.66666666666667, 97.33333333333333, 99.5, 97.33333333333333, 97.0, 97.0, 97.5, 95.71428571428571, 95.0, 97.53846153846153, 91.0], \"x\": [1, 2, 3, 4, 5, 6, 7, 8, 9, 10, 11, 12], \"type\": \"scatter\", \"name\": \"125552\"}, {\"y\": [91.6, 88.0, 93.0, 89.33333333333333, 92.0, 90.4, 83.2, 85.28571428571429, 89.4, 90.75, 82.5], \"x\": [1, 2, 3, 4, 5, 6, 7, 8, 9, 10, 11], \"type\": \"scatter\", \"name\": \"125868\"}, {\"y\": [95.2, 95.66666666666667, 93.0, 97.0, 94.2, 91.75, 94.2, 92.0, 96.0], \"x\": [1, 2, 3, 4, 5, 6, 7, 8, 9], \"type\": \"scatter\", \"name\": \"112529\"}, {\"y\": [76.0, 83.57142857142857, 77.14285714285714, 69.0, 72.8, 61.6875, 72.33333333333333, 48.0], \"x\": [1, 2, 3, 4, 5, 6, 7, 8], \"type\": \"scatter\", \"name\": \"125748\"}, {\"y\": [94.8, 98.0, 91.66666666666667, 98.33333333333333, 96.66666666666667, 92.0, 94.5, 98.0, 95.5, 94.0], \"x\": [1, 2, 3, 4, 5, 6, 7, 8, 9, 10], \"type\": \"scatter\", \"name\": \"126447\"}, {\"y\": [77.66666666666667, 68.0, 73.5, 72.33333333333333, 80.33333333333333, 78.0], \"x\": [1, 2, 3, 4, 5, 6], \"type\": \"scatter\", \"name\": \"126672\"}, {\"y\": [98.6, 95.0, 99.66666666666667, 98.04761904761905, 99.2, 97.0, 94.78571428571429, 98.42857142857143, 98.0, 94.2, 98.75, 99.66666666666667, 98.0, 97.33333333333333, 99.0, 100.0, 99.0, 100.0, 99.0, 96.5, 97.83333333333333, 98.5, 97.25, 99.0], \"x\": [1, 2, 3, 4, 5, 6, 7, 8, 9, 10, 11, 12, 13, 14, 15, 16, 17, 18, 19, 20, 21, 22, 23, 24], \"type\": \"scatter\", \"name\": \"127697\"}, {\"y\": [98.6, 99.33333333333333, 99.33333333333333, 99.0, 97.8, 98.14285714285714, 94.66666666666667, 99.0, 97.66666666666667, 93.0, 97.0, 95.0, 95.42857142857143], \"x\": [1, 2, 3, 4, 5, 6, 7, 8, 9, 10, 11, 12, 13], \"type\": \"scatter\", \"name\": \"127819\"}, {\"y\": [79.6, 38.0, 75.125, 44.6, 80.66666666666667, 63.0, 48.8, 51.0, 39.25], \"x\": [1, 2, 3, 4, 5, 6, 7, 8, 9], \"type\": \"scatter\", \"name\": \"128198\"}, {\"y\": [97.4, 96.0, 96.8, 95.5, 93.33333333333333, 95.33333333333333, 97.25, 98.4, 97.0, 96.0, 99.0, 97.0, 98.0], \"x\": [1, 2, 3, 4, 5, 6, 7, 8, 9, 10, 11, 12, 13], \"type\": \"scatter\", \"name\": \"126846\"}, {\"y\": [85.8, 78.0, 93.0, 85.0, 63.0, 87.5, 77.33333333333333, 52.0, 80.5, 65.66666666666667, 90.66666666666667, 69.75, 61.333333333333336, 54.5, 83.66666666666667, 81.5, 82.33333333333333, 73.25, 57.8, 61.0, 85.8, 76.33333333333333, 58.0, 71.0, 79.0, 92.0, 42.0, 72.5], \"x\": [1, 2, 3, 4, 5, 6, 7, 8, 9, 10, 11, 12, 13, 14, 15, 16, 17, 18, 19, 20, 21, 22, 23, 24, 25, 26, 27, 28], \"type\": \"scatter\", \"name\": \"128412\"}, {\"y\": [90.2, 95.0, 92.0, 92.25, 92.0, 96.0, 92.44444444444444, 93.6, 79.75, 94.0, 94.25, 87.83333333333333], \"x\": [1, 2, 3, 4, 5, 6, 7, 8, 9, 10, 11, 12], \"type\": \"scatter\", \"name\": \"111326\"}, {\"y\": [95.6, 95.66666666666667, 90.33333333333333, 97.44444444444444, 96.125], \"x\": [1, 2, 3, 4, 5], \"type\": \"scatter\", \"name\": \"800\"}, {\"y\": [94.0, 85.0, 93.75, 95.66666666666667, 91.66666666666667, 95.6, 93.5, 92.0, 89.0, 92.5, 93.0], \"x\": [1, 2, 3, 4, 5, 6, 7, 8, 9, 10, 11], \"type\": \"scatter\", \"name\": \"131072\"}, {\"y\": [98.2, 98.33333333333333, 94.0, 96.5, 96.75, 84.0, 99.16666666666667, 99.0, 95.66666666666667, 97.5, 98.5, 96.8, 98.0, 97.5], \"x\": [1, 2, 3, 4, 5, 6, 7, 8, 9, 10, 11, 12, 13, 14], \"type\": \"scatter\", \"name\": \"31705\"}, {\"y\": [76.2, 71.6, 88.0, 89.0, 90.75, 88.33333333333333, 91.33333333333333, 89.0, 93.0, 93.0, 91.5, 94.33333333333333, 91.0], \"x\": [1, 2, 3, 4, 5, 6, 7, 8, 9, 10, 11, 12, 13], \"type\": \"scatter\", \"name\": \"132947\"}], {\"title\": \"Label:0\"}, {\"linkText\": \"Export to plot.ly\", \"showLink\": true})});</script>"
      ],
      "text/plain": [
       "<IPython.core.display.HTML object>"
      ]
     },
     "metadata": {},
     "output_type": "display_data"
    },
    {
     "data": {
      "text/html": [
       "<div id=\"deec57cc-fb93-471b-99d1-59f2d9313ba7\" style=\"height: 525px; width: 100%;\" class=\"plotly-graph-div\"></div><script type=\"text/javascript\">require([\"plotly\"], function(Plotly) { window.PLOTLYENV=window.PLOTLYENV || {};window.PLOTLYENV.BASE_URL=\"https://plot.ly\";Plotly.newPlot(\"deec57cc-fb93-471b-99d1-59f2d9313ba7\", [{\"y\": [95.2, 94.33333333333333, 85.0, 84.0, 81.75, 90.66666666666667, 79.0, 85.5, 80.0, 80.5, 90.5, 83.4], \"x\": [1, 2, 3, 4, 5, 6, 7, 8, 9, 10, 11, 12], \"type\": \"scatter\", \"name\": \"113272\"}, {\"y\": [95.0, 96.0, 95.66666666666667, 94.0, 95.2, 97.0, 96.33333333333333, 94.0], \"x\": [1, 2, 3, 4, 5, 6, 7, 8], \"type\": \"scatter\", \"name\": \"113457\"}, {\"y\": [92.2, 90.0, 92.61904761904762, 89.33333333333333, 87.33333333333333, 67.4, 74.33333333333333], \"x\": [1, 2, 3, 4, 5, 6, 7], \"type\": \"scatter\", \"name\": \"110874\"}, {\"y\": [80.2, 67.76190476190476, 8.5, 3.2, 0.0, 0.0, 1.0, 0.0, 0.0, 0.0, 0.0, 0.0, 0.0, 0.0], \"x\": [1, 2, 3, 4, 5, 6, 7, 8, 9, 10, 11, 12, 13, 14], \"type\": \"scatter\", \"name\": \"114941\"}, {\"y\": [91.0, 86.66666666666667, 88.75, 89.25, 91.2, 84.5, 81.25, 73.33333333333333, 88.33333333333333, 85.66666666666667], \"x\": [1, 2, 3, 4, 5, 6, 7, 8, 9, 10], \"type\": \"scatter\", \"name\": \"116754\"}, {\"y\": [98.0, 99.0, 97.76190476190476, 96.0, 95.0, 99.0, 96.33333333333333, 96.25, 95.5, 95.0, 76.0, 95.28571428571429, 95.53846153846153, 97.5, 92.0], \"x\": [1, 2, 3, 4, 5, 6, 7, 8, 9, 10, 11, 12, 13, 14, 15], \"type\": \"scatter\", \"name\": \"117252\"}, {\"y\": [84.8, 93.85714285714286, 70.66666666666667, 85.28571428571429, 83.0, 86.25, 83.33333333333333, 83.0, 79.66666666666667, 63.666666666666664], \"x\": [1, 2, 3, 4, 5, 6, 7, 8, 9, 10], \"type\": \"scatter\", \"name\": \"116051\"}, {\"y\": [91.0, 91.66666666666667, 91.42857142857143, 79.66666666666667, 64.4, 74.63636363636364], \"x\": [1, 2, 3, 4, 5, 6], \"type\": \"scatter\", \"name\": \"122748\"}, {\"y\": [96.0, 94.33333333333333, 88.4, 84.4, 80.0, 79.83333333333333, 60.75, 70.5, 80.5, 72.0, 69.33333333333333, 58.333333333333336, 67.5, 61.4], \"x\": [1, 2, 3, 4, 5, 6, 7, 8, 9, 10, 11, 12, 13, 14], \"type\": \"scatter\", \"name\": \"124391\"}, {\"y\": [98.6, 97.66666666666667, 97.33333333333333, 98.11111111111111, 95.6, 92.33333333333333, 92.25, 96.0, 94.83333333333333, 94.0], \"x\": [1, 2, 3, 4, 5, 6, 7, 8, 9, 10], \"type\": \"scatter\", \"name\": \"124655\"}, {\"y\": [81.4, 72.0, 59.6, 72.0, 75.75, 88.6, 84.0, 70.33333333333333, 51.5, 68.33333333333333], \"x\": [1, 2, 3, 4, 5, 6, 7, 8, 9, 10], \"type\": \"scatter\", \"name\": \"124735\"}, {\"y\": [100.0, 100.0, 99.0, 98.66666666666667, 98.5, 97.5, 98.33333333333333, 100.0, 99.0], \"x\": [1, 2, 3, 4, 5, 6, 7, 8, 9], \"type\": \"scatter\", \"name\": \"125162\"}, {\"y\": [94.6, 89.76190476190476, 72.4, 52.0, 76.0], \"x\": [1, 2, 3, 4, 5], \"type\": \"scatter\", \"name\": \"124980\"}, {\"y\": [93.0, 91.33333333333333, 94.0, 88.57142857142857, 87.75], \"x\": [1, 2, 3, 4, 5], \"type\": \"scatter\", \"name\": \"125608\"}, {\"y\": [72.0, 82.33333333333333, 90.0, 77.0, 72.0, 94.33333333333333, 93.6, 82.33333333333333, 81.0, 77.5, 93.22222222222223], \"x\": [1, 2, 3, 4, 5, 6, 7, 8, 9, 10, 11], \"type\": \"scatter\", \"name\": \"107176\"}, {\"y\": [0.0], \"x\": [1], \"type\": \"scatter\", \"name\": \"77790\"}, {\"y\": [96.8, 95.66666666666667, 95.04761904761905, 83.0, 91.6, 93.0, 83.0, 74.5], \"x\": [1, 2, 3, 4, 5, 6, 7, 8], \"type\": \"scatter\", \"name\": \"126132\"}, {\"y\": [94.8, 94.66666666666667, 86.07692307692308], \"x\": [1, 2, 3], \"type\": \"scatter\", \"name\": \"128195\"}, {\"y\": [99.6, 99.0, 96.0, 99.5, 99.0, 97.0, 100.0], \"x\": [1, 2, 3, 4, 5, 6, 7], \"type\": \"scatter\", \"name\": \"113849\"}], {\"title\": \"Label:1\"}, {\"linkText\": \"Export to plot.ly\", \"showLink\": true})});</script>"
      ],
      "text/plain": [
       "<IPython.core.display.HTML object>"
      ]
     },
     "metadata": {},
     "output_type": "display_data"
    },
    {
     "data": {
      "text/html": [
       "<div id=\"4b7a405d-6a72-4b35-9040-61a7d7118ddd\" style=\"height: 525px; width: 100%;\" class=\"plotly-graph-div\"></div><script type=\"text/javascript\">require([\"plotly\"], function(Plotly) { window.PLOTLYENV=window.PLOTLYENV || {};window.PLOTLYENV.BASE_URL=\"https://plot.ly\";Plotly.newPlot(\"4b7a405d-6a72-4b35-9040-61a7d7118ddd\", [{\"y\": [91.8, 88.0, 91.08333333333333, 85.0, 86.16666666666667, 87.0, 81.75, 83.25, 89.94117647058823], \"x\": [1, 2, 3, 4, 5, 6, 7, 8, 9], \"type\": \"scatter\", \"name\": \"123705\"}, {\"y\": [98.0, 99.0, 92.33333333333333, 87.0, 87.0, 93.0, 91.5, 97.66666666666667, 98.66666666666667, 100.0], \"x\": [1, 2, 3, 4, 5, 6, 7, 8, 9, 10], \"type\": \"scatter\", \"name\": \"124746\"}, {\"y\": [77.2, 74.0, 76.4, 79.5, 90.71428571428571, 82.4], \"x\": [1, 2, 3, 4, 5, 6], \"type\": \"scatter\", \"name\": \"124945\"}, {\"y\": [96.4, 90.33333333333333, 96.38095238095238, 97.0, 92.0, 94.75, 97.5], \"x\": [1, 2, 3, 4, 5, 6, 7], \"type\": \"scatter\", \"name\": \"125247\"}, {\"y\": [55.8, 25.0, 65.0, 42.75, 45.2, 73.0, 73.0, 79.5, 48.0], \"x\": [1, 2, 3, 4, 5, 6, 7, 8, 9], \"type\": \"scatter\", \"name\": \"125304\"}, {\"y\": [67.2, 71.625, 60.0, 66.0, 77.0, 79.0, 80.33333333333333, 80.0], \"x\": [1, 2, 3, 4, 5, 6, 7, 8], \"type\": \"scatter\", \"name\": \"125490\"}, {\"y\": [68.8, 72.66666666666667, 48.2, 80.5, 82.4, 82.5, 87.33333333333333, 76.5, 85.0, 90.0], \"x\": [1, 2, 3, 4, 5, 6, 7, 8, 9, 10], \"type\": \"scatter\", \"name\": \"16508\"}, {\"y\": [97.0, 96.0, 91.66666666666667, 91.33333333333333, 93.8, 95.0, 97.2, 97.625], \"x\": [1, 2, 3, 4, 5, 6, 7, 8], \"type\": \"scatter\", \"name\": \"125537\"}, {\"y\": [93.6, 88.33333333333333, 95.58333333333333, 96.0, 92.5, 96.0, 94.0, 96.16666666666667, 96.83333333333333, 98.66666666666667, 96.28571428571429, 96.375], \"x\": [1, 2, 3, 4, 5, 6, 7, 8, 9, 10, 11, 12], \"type\": \"scatter\", \"name\": \"124267\"}, {\"y\": [85.6, 97.0, 88.4, 88.0, 86.0, 87.25, 87.33333333333333, 86.4, 80.0, 83.0, 93.0], \"x\": [1, 2, 3, 4, 5, 6, 7, 8, 9, 10, 11], \"type\": \"scatter\", \"name\": \"127178\"}, {\"y\": [65.4, 81.0, 68.2, 75.0, 80.375, 21.5, 52.2, 88.5, 79.0, 88.33333333333333], \"x\": [1, 2, 3, 4, 5, 6, 7, 8, 9, 10], \"type\": \"scatter\", \"name\": \"128081\"}, {\"y\": [86.4, 89.0952380952381, 83.8, 71.66666666666667, 82.66666666666667, 82.85714285714286, 76.25], \"x\": [1, 2, 3, 4, 5, 6, 7], \"type\": \"scatter\", \"name\": \"128130\"}, {\"y\": [59.0, 28.5, 39.0, 60.0, 65.5, 88.5, 72.75, 75.33333333333333, 85.0, 100.0, 9.0, 57.4, 40.0, 44.0], \"x\": [1, 2, 3, 4, 5, 6, 7, 8, 9, 10, 11, 12, 13, 14], \"type\": \"scatter\", \"name\": \"84530\"}, {\"y\": [97.2, 94.0, 87.0, 95.0, 97.6, 98.16666666666667, 96.8, 99.0], \"x\": [1, 2, 3, 4, 5, 6, 7, 8], \"type\": \"scatter\", \"name\": \"128647\"}, {\"y\": [71.8, 71.5, 73.25, 62.5, 80.2, 42.333333333333336, 50.8, 52.5, 70.66666666666667], \"x\": [1, 2, 3, 4, 5, 6, 7, 8, 9], \"type\": \"scatter\", \"name\": \"129609\"}, {\"y\": [96.2, 97.23809523809524, 98.33333333333333, 95.08333333333333, 97.6, 97.8, 98.0, 98.5, 95.0, 97.66666666666667, 98.0, 98.0, 95.0, 97.0, 96.0, 98.0, 98.5], \"x\": [1, 2, 3, 4, 5, 6, 7, 8, 9, 10, 11, 12, 13, 14, 15, 16, 17], \"type\": \"scatter\", \"name\": \"130291\"}, {\"y\": [63.6, 80.5, 66.75, 82.5, 72.4, 86.0, 88.66666666666667, 89.0, 72.75, 66.6, 68.5, 74.66666666666667, 74.66666666666667, 86.66666666666667, 81.0, 74.66666666666667], \"x\": [1, 2, 3, 4, 5, 6, 7, 8, 9, 10, 11, 12, 13, 14, 15, 16], \"type\": \"scatter\", \"name\": \"131230\"}, {\"y\": [81.4, 85.75, 88.8, 89.33333333333333, 86.0, 78.5, 82.6, 90.33333333333333, 82.33333333333333, 93.0], \"x\": [1, 2, 3, 4, 5, 6, 7, 8, 9, 10], \"type\": \"scatter\", \"name\": \"131548\"}, {\"y\": [93.6, 94.125, 94.33333333333333, 90.8, 94.4, 93.0, 92.0, 96.0, 90.25, 92.0, 96.0, 96.33333333333333], \"x\": [1, 2, 3, 4, 5, 6, 7, 8, 9, 10, 11, 12], \"type\": \"scatter\", \"name\": \"132196\"}], {\"title\": \"Label:2\"}, {\"linkText\": \"Export to plot.ly\", \"showLink\": true})});</script>"
      ],
      "text/plain": [
       "<IPython.core.display.HTML object>"
      ]
     },
     "metadata": {},
     "output_type": "display_data"
    }
   ],
   "source": [
    "# CLustering\n",
    "import scipy\n",
    "from sklearn.cluster import KMeans\n",
    "from sklearn import datasets\n",
    "\n",
    "np.random.seed(420420)\n",
    "data = []\n",
    "for feature in student_features:\n",
    "    data.append([feature['zero_rate'], feature['rising_rate'], feature['falling_rate'], feature['flip_rate'],\n",
    "                 feature['rising_sequence_rate'], feature['falling_sequence_rate'], feature['zero_sequence_rate']])\n",
    "\n",
    "est = KMeans(n_clusters=3)\n",
    "est.fit(data)\n",
    "labels = est.labels_\n",
    "\n",
    "num=0\n",
    "for feature in student_features:\n",
    "    feature['label'] = labels[num]\n",
    "    num+=1\n",
    "    \n",
    "\n",
    "for label_no in range(3):\n",
    "    data = []\n",
    "    for student in student_summary:\n",
    "        for feature in student_features:\n",
    "            if feature['memberId'] == student['memberId'] and feature['label'] == label_no:\n",
    "                stats = student[\"stats\"]\n",
    "    #             trace0 = go.Scatter(\n",
    "    #             x = [\"label: \" + str(stat['scores'][0]['postId']) for stat in stats],\n",
    "    #             y = [stat[\"wordLevel\"] for stat in stats],\n",
    "    #             name = 'Word Level')\n",
    "\n",
    "                trace1 = go.Scatter(\n",
    "                x = [num for num in range(1, len(stats)+1)],\n",
    "                y = [stat[\"average\"] for stat in stats],\n",
    "                name = str(student['memberId']))\n",
    "\n",
    "    #             trace2 = go.Scatter(\n",
    "    #             x = [\"label: \" + str(stat['scores'][0]['postId']) for stat in stats],\n",
    "    #             y = [len(stat['vocabularyList']) for stat in stats],\n",
    "    #             name = 'Amount of saved words')\n",
    "                data.append(trace1)\n",
    "    layout = go.Layout(\n",
    "        title = \"Label:\" +str(label_no)\n",
    "    )\n",
    "    fig = go.Figure(data=data[-20:-1], layout=layout)\n",
    "    po.iplot(fig)"
   ]
  },
  {
   "cell_type": "code",
   "execution_count": null,
   "metadata": {
    "collapsed": false
   },
   "outputs": [],
   "source": [
    "for student in student_summary:\n",
    "    if student['memberId'] == '10026':\n",
    "        for stat in student['stats']:\n",
    "            if stat['postId'] == 4220:\n",
    "                print stat['vocabularyList']"
   ]
  }
 ],
 "metadata": {
  "kernelspec": {
   "display_name": "Python 2",
   "language": "python",
   "name": "python2"
  },
  "language_info": {
   "codemirror_mode": {
    "name": "ipython",
    "version": 2
   },
   "file_extension": ".py",
   "mimetype": "text/x-python",
   "name": "python",
   "nbconvert_exporter": "python",
   "pygments_lexer": "ipython2",
   "version": "2.7.12"
  }
 },
 "nbformat": 4,
 "nbformat_minor": 2
}
